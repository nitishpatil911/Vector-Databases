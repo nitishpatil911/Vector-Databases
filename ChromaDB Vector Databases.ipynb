{
 "cells": [
  {
   "cell_type": "markdown",
   "id": "8c4643bb",
   "metadata": {},
   "source": [
    "# Semantic Search Using Chroma DB"
   ]
  },
  {
   "cell_type": "code",
   "execution_count": 3,
   "id": "ee1fbcc3",
   "metadata": {},
   "outputs": [],
   "source": [
    "# !pip install chromadb --user\n",
    "import pandas as pd\n",
    "import chromadb\n"
   ]
  },
  {
   "cell_type": "code",
   "execution_count": 4,
   "id": "06f7b7f5",
   "metadata": {},
   "outputs": [],
   "source": [
    "# data source: https://www.kaggle.com/datasets/nulldata/medium-post-titles\n",
    "df = pd.read_csv(\"medium_post_titles.csv\")\n",
    "\n",
    "df = df.dropna()\n",
    "df = df[~df[\"subtitle_truncated_flag\"]]\n",
    "\n",
    "topics_of_interest = ['artificial-intelligence', 'data-science', 'machine-learning']\n",
    "# topics_of_interest = ['data-science']\n",
    "\n",
    "df = df[df['category'].isin(topics_of_interest)]\n",
    "\n",
    "df['text'] = df['title']  + df['subtitle']\n",
    "\n",
    "df['meta'] = df.apply( lambda x: {\n",
    "    'text': x['text'],\n",
    "    'category': x['category']  \n",
    "}, axis=1)"
   ]
  },
  {
   "cell_type": "code",
   "execution_count": 10,
   "id": "00cc89d3",
   "metadata": {
    "scrolled": true
   },
   "outputs": [
    {
     "data": {
      "text/html": [
       "<div>\n",
       "<style scoped>\n",
       "    .dataframe tbody tr th:only-of-type {\n",
       "        vertical-align: middle;\n",
       "    }\n",
       "\n",
       "    .dataframe tbody tr th {\n",
       "        vertical-align: top;\n",
       "    }\n",
       "\n",
       "    .dataframe thead th {\n",
       "        text-align: right;\n",
       "    }\n",
       "</style>\n",
       "<table border=\"1\" class=\"dataframe\">\n",
       "  <thead>\n",
       "    <tr style=\"text-align: right;\">\n",
       "      <th></th>\n",
       "      <th>category</th>\n",
       "      <th>title</th>\n",
       "      <th>subtitle</th>\n",
       "      <th>subtitle_truncated_flag</th>\n",
       "      <th>text</th>\n",
       "      <th>meta</th>\n",
       "    </tr>\n",
       "  </thead>\n",
       "  <tbody>\n",
       "    <tr>\n",
       "      <th>4</th>\n",
       "      <td>artificial-intelligence</td>\n",
       "      <td>\"Can I Train my Model on Your Computer?\"</td>\n",
       "      <td>How we waste computational resources and how t...</td>\n",
       "      <td>False</td>\n",
       "      <td>\"Can I Train my Model on Your Computer?\"How we...</td>\n",
       "      <td>{'text': '\"Can I Train my Model on Your Comput...</td>\n",
       "    </tr>\n",
       "    <tr>\n",
       "      <th>289</th>\n",
       "      <td>data-science</td>\n",
       "      <td>(Robot) data scientists as a service</td>\n",
       "      <td>Automating data science with symbolic regressi...</td>\n",
       "      <td>False</td>\n",
       "      <td>(Robot) data scientists as a serviceAutomating...</td>\n",
       "      <td>{'text': '(Robot) data scientists as a service...</td>\n",
       "    </tr>\n",
       "  </tbody>\n",
       "</table>\n",
       "</div>"
      ],
      "text/plain": [
       "                    category                                     title  \\\n",
       "4    artificial-intelligence  \"Can I Train my Model on Your Computer?\"   \n",
       "289             data-science      (Robot) data scientists as a service   \n",
       "\n",
       "                                              subtitle  \\\n",
       "4    How we waste computational resources and how t...   \n",
       "289  Automating data science with symbolic regressi...   \n",
       "\n",
       "     subtitle_truncated_flag  \\\n",
       "4                      False   \n",
       "289                    False   \n",
       "\n",
       "                                                  text  \\\n",
       "4    \"Can I Train my Model on Your Computer?\"How we...   \n",
       "289  (Robot) data scientists as a serviceAutomating...   \n",
       "\n",
       "                                                  meta  \n",
       "4    {'text': '\"Can I Train my Model on Your Comput...  \n",
       "289  {'text': '(Robot) data scientists as a service...  "
      ]
     },
     "execution_count": 10,
     "metadata": {},
     "output_type": "execute_result"
    }
   ],
   "source": [
    "df.head(2)"
   ]
  },
  {
   "cell_type": "markdown",
   "id": "94a6cd28",
   "metadata": {},
   "source": [
    "## Chroma DB Setup "
   ]
  },
  {
   "cell_type": "code",
   "execution_count": 25,
   "id": "3b578a6b",
   "metadata": {},
   "outputs": [],
   "source": [
    "from chromadb.config import Settings"
   ]
  },
  {
   "cell_type": "code",
   "execution_count": 26,
   "id": "7242deac",
   "metadata": {
    "scrolled": true
   },
   "outputs": [
    {
     "name": "stderr",
     "output_type": "stream",
     "text": [
      "Using embedded DuckDB with persistence: data will be stored in: medium-chroma-db\n",
      "No embedding_function provided, using default embedding function: SentenceTransformerEmbeddingFunction\n"
     ]
    }
   ],
   "source": [
    "# Chroma DB Setup\n",
    "chroma_client = chromadb.Client(Settings(\n",
    "    persist_directory=\"medium-chroma-db\",\n",
    "    chroma_db_impl=\"duckdb+parquet\"\n",
    "))  # persistent memory\n",
    "\n",
    "# collection creation\n",
    "article_collection = chroma_client.create_collection(name=\"medium-article\")"
   ]
  },
  {
   "cell_type": "markdown",
   "id": "f20f19d1",
   "metadata": {},
   "source": [
    "## Data Insertion"
   ]
  },
  {
   "cell_type": "code",
   "execution_count": 27,
   "id": "429c37d4",
   "metadata": {},
   "outputs": [],
   "source": [
    "# inserting data\n",
    "\n",
    "article_collection.upsert(\n",
    "    ids=[f\"{x}\" for x in df.index.tolist()],\n",
    "    documents=df['text'].tolist(),\n",
    "    metadatas=df['meta'].tolist()    \n",
    ")"
   ]
  },
  {
   "cell_type": "markdown",
   "id": "b6925f75",
   "metadata": {},
   "source": [
    "## Vector Query"
   ]
  },
  {
   "cell_type": "code",
   "execution_count": 28,
   "id": "357cff43",
   "metadata": {},
   "outputs": [],
   "source": [
    "qry_str = \"best data ai library?\""
   ]
  },
  {
   "cell_type": "code",
   "execution_count": 29,
   "id": "52b84c22",
   "metadata": {},
   "outputs": [
    {
     "data": {
      "text/plain": [
       "{'ids': [['103719', '24137']],\n",
       " 'embeddings': None,\n",
       " 'documents': [['Top 7 libraries and packages of the year for Data Science and AI: Python & RThis is a list of the best libraries and packages that changed our lives this year, compiled from my weekly digests',\n",
       "   'Data Commons Version 1.0: A Framework to Build Toward AI for GoodA roadmap for data from the 2018 AI for Good Summit']],\n",
       " 'metadatas': [[{'text': 'Top 7 libraries and packages of the year for Data Science and AI: Python & RThis is a list of the best libraries and packages that changed our lives this year, compiled from my weekly digests',\n",
       "    'category': 'machine-learning'},\n",
       "   {'text': 'Data Commons Version 1.0: A Framework to Build Toward AI for GoodA roadmap for data from the 2018 AI for Good Summit',\n",
       "    'category': 'artificial-intelligence'}]],\n",
       " 'distances': [[0.6297022700309753, 0.7120211720466614]]}"
      ]
     },
     "execution_count": 29,
     "metadata": {},
     "output_type": "execute_result"
    }
   ],
   "source": [
    "article_collection.query(query_texts=qry_str, n_results=2)"
   ]
  },
  {
   "cell_type": "code",
   "execution_count": null,
   "id": "645b37b0",
   "metadata": {},
   "outputs": [],
   "source": [
    "# article_collection.delete()"
   ]
  }
 ],
 "metadata": {
  "kernelspec": {
   "display_name": "pinecone_env",
   "language": "python",
   "name": "pinecone_env"
  },
  "language_info": {
   "codemirror_mode": {
    "name": "ipython",
    "version": 3
   },
   "file_extension": ".py",
   "mimetype": "text/x-python",
   "name": "python",
   "nbconvert_exporter": "python",
   "pygments_lexer": "ipython3",
   "version": "3.10.6"
  }
 },
 "nbformat": 4,
 "nbformat_minor": 5
}
