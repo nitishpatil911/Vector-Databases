{
  "cells": [
    {
      "cell_type": "markdown",
      "id": "2042ccb5",
      "metadata": {
        "id": "2042ccb5"
      },
      "source": [
        "# SQLite DB in Vector Databases"
      ]
    },
    {
      "cell_type": "code",
      "execution_count": null,
      "id": "2eb8c913",
      "metadata": {
        "id": "2eb8c913"
      },
      "outputs": [],
      "source": [
        "# !pip install sqlite3\n",
        "import sqlite3"
      ]
    },
    {
      "cell_type": "code",
      "execution_count": null,
      "id": "87429e78",
      "metadata": {
        "id": "87429e78"
      },
      "outputs": [],
      "source": [
        "# create a connection to the SQLite DB\n",
        "conn = sqlite3.connect('test.db')"
      ]
    },
    {
      "cell_type": "code",
      "execution_count": null,
      "id": "376bdaa1",
      "metadata": {
        "id": "376bdaa1"
      },
      "outputs": [],
      "source": [
        "# Create a cursor object to execute SQL Commands\n",
        "cursor = conn.cursor()"
      ]
    },
    {
      "cell_type": "code",
      "execution_count": null,
      "id": "e2547b46",
      "metadata": {
        "colab": {
          "base_uri": "https://localhost:8080/"
        },
        "id": "e2547b46",
        "outputId": "3a88e966-ebc0-4212-e024-a9d4aa90ddfd"
      },
      "outputs": [
        {
          "output_type": "execute_result",
          "data": {
            "text/plain": [
              "<sqlite3.Cursor at 0x7abce3a65cc0>"
            ]
          },
          "metadata": {},
          "execution_count": 4
        }
      ],
      "source": [
        "# Create a table\n",
        "cursor.execute(\n",
        "\"\"\"\n",
        "CREATE TABLE IF NOT EXISTS employees (\n",
        "    id INTEGER PRIMARY KEY,\n",
        "    name TEXT NOT NULL,\n",
        "    age INTEGER,\n",
        "    department TEXT\n",
        ")\n",
        "\"\"\"\n",
        ")"
      ]
    },
    {
      "cell_type": "code",
      "execution_count": null,
      "id": "f2bff0fe",
      "metadata": {
        "colab": {
          "base_uri": "https://localhost:8080/"
        },
        "id": "f2bff0fe",
        "outputId": "05bbf9ac-26e6-4c67-c038-96d70ce3222f"
      },
      "outputs": [
        {
          "output_type": "execute_result",
          "data": {
            "text/plain": [
              "<sqlite3.Cursor at 0x7abce3a65cc0>"
            ]
          },
          "metadata": {},
          "execution_count": 5
        }
      ],
      "source": [
        "# Insert data into table\n",
        "cursor.execute(\n",
        "\"INSERT INTO employees (name, age, department) VALUES (?, ?, ?)\",\n",
        "    ('John Doe', 30, 'Sales')\n",
        "\n",
        ")"
      ]
    },
    {
      "cell_type": "code",
      "execution_count": null,
      "id": "45035aeb",
      "metadata": {
        "colab": {
          "base_uri": "https://localhost:8080/"
        },
        "id": "45035aeb",
        "outputId": "10b5616f-ddd0-4c02-d7d7-b3cad4a96cbd"
      },
      "outputs": [
        {
          "output_type": "execute_result",
          "data": {
            "text/plain": [
              "<sqlite3.Cursor at 0x7abce3a65cc0>"
            ]
          },
          "metadata": {},
          "execution_count": 6
        }
      ],
      "source": [
        "# Retreive data\n",
        "\n",
        "cursor.execute(\"SELECT * FROM employees\")"
      ]
    },
    {
      "cell_type": "code",
      "execution_count": null,
      "id": "f35d9933",
      "metadata": {
        "id": "f35d9933"
      },
      "outputs": [],
      "source": [
        "rows = cursor.fetchall()"
      ]
    },
    {
      "cell_type": "code",
      "execution_count": null,
      "id": "1f80f4a7",
      "metadata": {
        "colab": {
          "base_uri": "https://localhost:8080/"
        },
        "id": "1f80f4a7",
        "outputId": "2535a11e-b0e0-4cd1-f1c0-8ff54d890769"
      },
      "outputs": [
        {
          "output_type": "execute_result",
          "data": {
            "text/plain": [
              "[(1, 'John Doe', 30, 'Sales')]"
            ]
          },
          "metadata": {},
          "execution_count": 8
        }
      ],
      "source": [
        "rows\n"
      ]
    },
    {
      "cell_type": "code",
      "execution_count": null,
      "id": "6b00fbbd",
      "metadata": {
        "id": "6b00fbbd"
      },
      "outputs": [],
      "source": [
        "conn.commit()"
      ]
    },
    {
      "cell_type": "code",
      "execution_count": null,
      "id": "da8199f0",
      "metadata": {
        "id": "da8199f0"
      },
      "outputs": [],
      "source": [
        "conn.close()"
      ]
    },
    {
      "cell_type": "code",
      "execution_count": null,
      "id": "2ae908db",
      "metadata": {
        "colab": {
          "base_uri": "https://localhost:8080/"
        },
        "id": "2ae908db",
        "outputId": "f62eb9d4-7f96-403c-a10a-7554e44e2a17"
      },
      "outputs": [
        {
          "output_type": "execute_result",
          "data": {
            "text/plain": [
              "[(1, 'John Doe', 30, 'Sales')]"
            ]
          },
          "metadata": {},
          "execution_count": 11
        }
      ],
      "source": [
        "rows"
      ]
    }
  ],
  "metadata": {
    "kernelspec": {
      "display_name": "Python 3 (ipykernel)",
      "language": "python",
      "name": "python3"
    },
    "language_info": {
      "codemirror_mode": {
        "name": "ipython",
        "version": 3
      },
      "file_extension": ".py",
      "mimetype": "text/x-python",
      "name": "python",
      "nbconvert_exporter": "python",
      "pygments_lexer": "ipython3",
      "version": "3.10.6"
    },
    "colab": {
      "provenance": []
    }
  },
  "nbformat": 4,
  "nbformat_minor": 5
}